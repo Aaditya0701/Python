{
 "cells": [
  {
   "cell_type": "markdown",
   "metadata": {},
   "source": [
    "Variables & Data Types"
   ]
  },
  {
   "cell_type": "code",
   "execution_count": 18,
   "metadata": {},
   "outputs": [
    {
     "name": "stdout",
     "output_type": "stream",
     "text": [
      "My name is :  Aaditya\n",
      "My age is :  23\n",
      "My age is :  23\n"
     ]
    }
   ],
   "source": [
    "name = \"Aaditya\"\n",
    "age = 23\n",
    "age2 = age\n",
    "print(\"My name is : \", name)\n",
    "print(\"My age is : \", age)\n",
    "print(\"My age is : \", age2)"
   ]
  },
  {
   "cell_type": "code",
   "execution_count": 19,
   "metadata": {},
   "outputs": [
    {
     "name": "stdout",
     "output_type": "stream",
     "text": [
      "<class 'str'>\n",
      "<class 'int'>\n"
     ]
    }
   ],
   "source": [
    "# data type of the varables used above\n",
    "# python is implicit typed language , as there's no need to specify the type of variable while assigning value\n",
    "# ....while cpp and java are explicit\n",
    "print(type(name))\n",
    "print(type(age))"
   ]
  },
  {
   "cell_type": "code",
   "execution_count": 20,
   "metadata": {},
   "outputs": [
    {
     "name": "stdout",
     "output_type": "stream",
     "text": [
      "sum of 23 + 54 = 77\n"
     ]
    }
   ],
   "source": [
    "a = 23\n",
    "b = 54\n",
    "print('sum of', a, '+', b, '=', a+b)"
   ]
  },
  {
   "cell_type": "code",
   "execution_count": null,
   "metadata": {},
   "outputs": [
    {
     "name": "stdout",
     "output_type": "stream",
     "text": [
      "A * Txt * B =  Hi! Hi! Hi! Hi! Hi! Hi! \n",
      "(A + Txt) * B = 2Hi! 2Hi! 2Hi! \n"
     ]
    }
   ],
   "source": [
    "# String and numeric value can be operate together with *\n",
    "A = 2\n",
    "B = 3\n",
    "Txt = \"Hi! \"\n",
    "print(\"A * Txt * B = \",A*Txt*B)\n",
    "\n",
    "# string and string value can be operate together with +\n",
    "A = \"2\"\n",
    "B = 3\n",
    "Txt = \"Hi! \"\n",
    "print(\"(A + Txt) * B =\", (A+Txt)*B)\n",
    "# ...here 2 strings combining together is concatination"
   ]
  },
  {
   "cell_type": "code",
   "execution_count": null,
   "metadata": {},
   "outputs": [
    {
     "name": "stdout",
     "output_type": "stream",
     "text": [
      "A / B = 0.5\n",
      "this will roundoff the float value to nearest integer value which is laser than or equal to it\n",
      "A // B =  0.0\n"
     ]
    }
   ],
   "source": [
    "# two different divisions\n",
    "a= 1.5\n",
    "b=3\n",
    "\n",
    "# division operator\n",
    "print(\"A / B =\",a / b)\n",
    "\n",
    "# integer division\n",
    "print(\"this will roundoff the float value to nearest integer value which is laser than or equal to it\")\n",
    "print(\"A // B = \", a//b)"
   ]
  },
  {
   "cell_type": "markdown",
   "metadata": {},
   "source": [
    "Input   Method"
   ]
  },
  {
   "cell_type": "code",
   "execution_count": 1,
   "metadata": {},
   "outputs": [
    {
     "name": "stdout",
     "output_type": "stream",
     "text": [
      "Take string as input\n",
      "Hi \n"
     ]
    }
   ],
   "source": [
    "print(\"Take string as input\")\n",
    "name = input(\"name : \")\n",
    "print(\"Hi\",name)"
   ]
  },
  {
   "cell_type": "code",
   "execution_count": 3,
   "metadata": {},
   "outputs": [
    {
     "name": "stdout",
     "output_type": "stream",
     "text": [
      "Take Number as input\n",
      "your rank is 80\n"
     ]
    }
   ],
   "source": [
    "print(\"Take Number as input\")\n",
    "rank = int(input(\"rank : \"))\n",
    "print(\"your rank is\",rank)"
   ]
  }
 ],
 "metadata": {
  "kernelspec": {
   "display_name": "base",
   "language": "python",
   "name": "python3"
  },
  "language_info": {
   "codemirror_mode": {
    "name": "ipython",
    "version": 3
   },
   "file_extension": ".py",
   "mimetype": "text/x-python",
   "name": "python",
   "nbconvert_exporter": "python",
   "pygments_lexer": "ipython3",
   "version": "3.12.7"
  }
 },
 "nbformat": 4,
 "nbformat_minor": 2
}
