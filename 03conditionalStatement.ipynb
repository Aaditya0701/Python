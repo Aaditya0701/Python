{
 "cells": [
  {
   "cell_type": "markdown",
   "metadata": {},
   "source": [
    "Conditional Statements"
   ]
  },
  {
   "cell_type": "code",
   "execution_count": 5,
   "metadata": {},
   "outputs": [
    {
     "name": "stdout",
     "output_type": "stream",
     "text": [
      "If signal is  green\n",
      "Go...!\n"
     ]
    }
   ],
   "source": [
    "light = input(\"Enter Signal Color = \")\n",
    "print(\"If signal is \",light)\n",
    "if(light == \"red\"):\n",
    "    print(\"Stop...!\")\n",
    "elif(light == \"yellow\"):\n",
    "    print(\"Look...!\")\n",
    "elif(light == \"green\"):\n",
    "    print(\"Go...!\")\n",
    "else:\n",
    "    print(\"Invalid Color...!\")"
   ]
  }
 ],
 "metadata": {
  "kernelspec": {
   "display_name": "base",
   "language": "python",
   "name": "python3"
  },
  "language_info": {
   "codemirror_mode": {
    "name": "ipython",
    "version": 3
   },
   "file_extension": ".py",
   "mimetype": "text/x-python",
   "name": "python",
   "nbconvert_exporter": "python",
   "pygments_lexer": "ipython3",
   "version": "3.12.7"
  }
 },
 "nbformat": 4,
 "nbformat_minor": 2
}
