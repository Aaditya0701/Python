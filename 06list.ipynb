{
 "cells": [
  {
   "cell_type": "markdown",
   "metadata": {},
   "source": [
    "List - sort of equivalent to Array"
   ]
  },
  {
   "cell_type": "markdown",
   "metadata": {},
   "source": [
    "    A built-in data type that stores set of values.\n",
    "    It can store elements of dfferent data types together like (int, float, str, etc)\n",
    "    Lists are mutable in python"
   ]
  },
  {
   "cell_type": "code",
   "execution_count": 21,
   "metadata": {},
   "outputs": [
    {
     "name": "stdout",
     "output_type": "stream",
     "text": [
      "this is list - [92.5, 89.1, 95.8, 87.4, 85.8]\n",
      "type of marks - <class 'list'>\n",
      "length of marks - 5\n"
     ]
    }
   ],
   "source": [
    "marks = [92.5, 89.1, 95.8, 87.4, 85.8]\n",
    "print(\"this is list -\",marks)\n",
    "print(\"type of marks -\", type(marks))\n",
    "print(\"length of marks -\", len(marks))"
   ]
  },
  {
   "cell_type": "code",
   "execution_count": 4,
   "metadata": {},
   "outputs": [
    {
     "name": "stdout",
     "output_type": "stream",
     "text": [
      "['Aaditya', 96.75, 'Jalgaon']\n",
      "['Aaditya', 96.75, 'Pune']\n"
     ]
    }
   ],
   "source": [
    "student = [\"Aaditya\", 96.75, \"Jalgaon\"]\n",
    "print(student)\n",
    "\n",
    "student[2] = \"Pune\"\n",
    "print(student)"
   ]
  },
  {
   "cell_type": "markdown",
   "metadata": {},
   "source": [
    "List Slicing"
   ]
  },
  {
   "cell_type": "markdown",
   "metadata": {},
   "source": [
    "    syntax : str[start_index : end_index], where end_index is not include in output"
   ]
  },
  {
   "cell_type": "code",
   "execution_count": 10,
   "metadata": {},
   "outputs": [
    {
     "name": "stdout",
     "output_type": "stream",
     "text": [
      "this is list - [92.5, 89.1, 95.8, 87.4, 85.8]\n",
      "print marks from marks[1:4] = [89.1, 95.8, 87.4]\n",
      "print marks from marks[:4] = [92.5, 89.1, 95.8, 87.4]\n",
      "print marks from marks[1:] = [89.1, 95.8, 87.4, 85.8]\n"
     ]
    }
   ],
   "source": [
    "print(\"this is list -\",marks)\n",
    "print(\"print marks from marks[1:4] =\",marks[1:4])\n",
    "print(\"print marks from marks[:4] =\",marks[:4])\n",
    "print(\"print marks from marks[1:] =\",marks[1:])"
   ]
  },
  {
   "cell_type": "markdown",
   "metadata": {},
   "source": [
    "List Methods"
   ]
  },
  {
   "cell_type": "code",
   "execution_count": 22,
   "metadata": {},
   "outputs": [
    {
     "name": "stdout",
     "output_type": "stream",
     "text": [
      "this is list - [92.5, 89.1, 95.8, 87.4, 85.8]\n",
      "append 84.7 = [92.5, 89.1, 95.8, 87.4, 85.8, 84.7]\n"
     ]
    }
   ],
   "source": [
    "print(\"this is list -\",marks)\n",
    "\n",
    "marks.append(84.7) #adds new element at end\n",
    "print(\"append 84.7 =\",marks)"
   ]
  },
  {
   "cell_type": "code",
   "execution_count": 41,
   "metadata": {},
   "outputs": [
    {
     "name": "stdout",
     "output_type": "stream",
     "text": [
      "marks after sorting = [84.7, 85.8, 87.4, 89.1, 92.5, 95.8, 99.9, 99.9, 99.9]\n",
      "marks sort in desending = [99.9, 99.9, 99.9, 95.8, 92.5, 89.1, 87.4, 85.8, 84.7]\n",
      "marks after reversing = [84.7, 85.8, 87.4, 89.1, 92.5, 95.8, 99.9, 99.9, 99.9]\n"
     ]
    }
   ],
   "source": [
    "marks.sort() # sort the data in assending order\n",
    "print(\"marks after sorting =\",marks)\n",
    "\n",
    "marks.sort(reverse=True) # sort the data in desending order\n",
    "print(\"marks sort in desending =\",marks)\n",
    "\n",
    "marks.reverse() #to reverse the string\n",
    "print(\"marks after reversing =\",marks)"
   ]
  },
  {
   "cell_type": "code",
   "execution_count": 46,
   "metadata": {},
   "outputs": [
    {
     "name": "stdout",
     "output_type": "stream",
     "text": [
      "insert data at 3 index = [84.7, 85.8, 87.4, 99.9, 89.1, 92.5, 95.8, 99.9]\n"
     ]
    }
   ],
   "source": [
    "marks.insert(3,99.9) # to inserts element at particulat index\n",
    "print(\"insert data at 3 index =\", marks)"
   ]
  },
  {
   "cell_type": "code",
   "execution_count": 47,
   "metadata": {},
   "outputs": [
    {
     "name": "stdout",
     "output_type": "stream",
     "text": [
      "removing 99.9 from list = [84.7, 85.8, 87.4, 89.1, 92.5, 95.8, 99.9]\n"
     ]
    }
   ],
   "source": [
    "marks.remove(99.9) # removes forst occurance of element\n",
    "print(\"removing 99.9 from list =\",marks)"
   ]
  },
  {
   "cell_type": "code",
   "execution_count": 49,
   "metadata": {},
   "outputs": [
    {
     "name": "stdout",
     "output_type": "stream",
     "text": [
      "[84.7, 85.8, 87.4, 89.1, 95.8, 99.9]\n",
      "pop the element at index 4 = [84.7, 85.8, 87.4, 89.1, 99.9]\n"
     ]
    }
   ],
   "source": [
    "print(marks)\n",
    "marks.pop(4) # removes element at the index\n",
    "print(\"pop the element at index 4 =\",marks)"
   ]
  }
 ],
 "metadata": {
  "kernelspec": {
   "display_name": "base",
   "language": "python",
   "name": "python3"
  },
  "language_info": {
   "codemirror_mode": {
    "name": "ipython",
    "version": 3
   },
   "file_extension": ".py",
   "mimetype": "text/x-python",
   "name": "python",
   "nbconvert_exporter": "python",
   "pygments_lexer": "ipython3",
   "version": "3.12.7"
  }
 },
 "nbformat": 4,
 "nbformat_minor": 2
}
