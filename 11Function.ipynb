{
 "cells": [
  {
   "cell_type": "markdown",
   "metadata": {},
   "source": [
    "<u><h2>Functions</h2></u>"
   ]
  },
  {
   "cell_type": "markdown",
   "metadata": {},
   "source": [
    "    block of statements that performs a specific taks.\n",
    "    Also to reduce the redundancy of code"
   ]
  },
  {
   "cell_type": "code",
   "execution_count": 4,
   "metadata": {},
   "outputs": [
    {
     "name": "stdout",
     "output_type": "stream",
     "text": [
      "sum = 87\n"
     ]
    }
   ],
   "source": [
    "def calSum(a,b) :\n",
    "    sum = a + b\n",
    "    return sum\n",
    "    \n",
    "print(\"sum =\",calSum(65, 22))"
   ]
  },
  {
   "cell_type": "markdown",
   "metadata": {},
   "source": [
    "<h3> Q> WAP tp print element of list in single line (list if parameter) </h3>"
   ]
  },
  {
   "cell_type": "code",
   "execution_count": null,
   "metadata": {},
   "outputs": [
    {
     "name": "stdout",
     "output_type": "stream",
     "text": [
      "mango, banana, apple, muskmelon, grapes, "
     ]
    }
   ],
   "source": [
    "fruits = [\"mango\", \"banana\", \"apple\", \"muskmelon\", \"grapes\"]\n",
    "\n",
    "def printList(list) :\n",
    "    for i in list :\n",
    "        print(i, end=\", \")\n",
    "\n",
    "printList(fruits)                           "
   ]
  },
  {
   "cell_type": "markdown",
   "metadata": {},
   "source": [
    "<h3>Recursion</h3>"
   ]
  },
  {
   "cell_type": "code",
   "execution_count": 11,
   "metadata": {},
   "outputs": [
    {
     "name": "stdout",
     "output_type": "stream",
     "text": [
      "10 9 8 7 6 5 4 3 2 1 "
     ]
    }
   ],
   "source": [
    "# to print 5, 4, 3, 2, 1\n",
    "\n",
    "def nums (n) :\n",
    "    if (n == 0) :\n",
    "        return\n",
    "    print(n, end=\" \")\n",
    "    nums(n-1)\n",
    "    \n",
    "nums(10)"
   ]
  },
  {
   "cell_type": "markdown",
   "metadata": {},
   "source": [
    "<h3> Q> Factorial using recrsion </h3>"
   ]
  },
  {
   "cell_type": "code",
   "execution_count": 12,
   "metadata": {},
   "outputs": [
    {
     "name": "stdout",
     "output_type": "stream",
     "text": [
      "120\n"
     ]
    }
   ],
   "source": [
    "def fact (n) :\n",
    "    if(n==0 or n==1):\n",
    "        return 1\n",
    "    return fact(n-1) * n\n",
    "print(fact(5))\n"
   ]
  }
 ],
 "metadata": {
  "kernelspec": {
   "display_name": "Python 3",
   "language": "python",
   "name": "python3"
  },
  "language_info": {
   "codemirror_mode": {
    "name": "ipython",
    "version": 3
   },
   "file_extension": ".py",
   "mimetype": "text/x-python",
   "name": "python",
   "nbconvert_exporter": "python",
   "pygments_lexer": "ipython3",
   "version": "3.13.2"
  }
 },
 "nbformat": 4,
 "nbformat_minor": 2
}
