{
 "cells": [
  {
   "cell_type": "markdown",
   "metadata": {},
   "source": [
    "Tuples"
   ]
  },
  {
   "cell_type": "markdown",
   "metadata": {},
   "source": [
    "    A built-in data type that let us create immutable sequence of values\n",
    "\n",
    "    note - is there's only ont element in tuple then it is compulsory to end it with ',' else it will not be treated as tuple\n",
    "            eg - tup = (1,) "
   ]
  },
  {
   "cell_type": "code",
   "execution_count": 6,
   "metadata": {},
   "outputs": [
    {
     "name": "stdout",
     "output_type": "stream",
     "text": [
      "tup = (4, 1, 3, 2, 4)\n",
      "type os tup is = <class 'tuple'>\n"
     ]
    }
   ],
   "source": [
    "tup = (4,1,3,2,4)\n",
    "print(\"tup =\",tup)\n",
    "print(\"type os tup is =\",type(tup))"
   ]
  },
  {
   "cell_type": "code",
   "execution_count": 7,
   "metadata": {},
   "outputs": [
    {
     "name": "stdout",
     "output_type": "stream",
     "text": [
      "element at index 2 = 3\n",
      "element at index 0 = 4\n"
     ]
    }
   ],
   "source": [
    "print(\"element at index 2 =\",tup[2])\n",
    "print(\"element at index 0 =\",tup[0])"
   ]
  },
  {
   "cell_type": "markdown",
   "metadata": {},
   "source": [
    "Tuple Methods"
   ]
  },
  {
   "cell_type": "code",
   "execution_count": 9,
   "metadata": {},
   "outputs": [
    {
     "name": "stdout",
     "output_type": "stream",
     "text": [
      "get the first occoured index of element 3 = 2\n",
      "get the count of element 4 = 2\n"
     ]
    }
   ],
   "source": [
    "print(\"get the first occoured index of element 3 =\",tup.index(3))\n",
    "print(\"get the count of element 4 =\",tup.count(4))"
   ]
  },
  {
   "cell_type": "markdown",
   "metadata": {},
   "source": [
    "Q> WAP to ask the user to enter the name of their 3 favourate movies & store them in list"
   ]
  },
  {
   "cell_type": "code",
   "execution_count": 14,
   "metadata": {},
   "outputs": [
    {
     "name": "stdout",
     "output_type": "stream",
     "text": [
      "movies = ['Inception', 'Shutter Island', 'Lucy']\n"
     ]
    }
   ],
   "source": [
    "movies = []\n",
    "\n",
    "mov1 = input(\"enter 1st movie name =\")\n",
    "mov2 = input(\"enter 2nd movie name =\")\n",
    "\n",
    "movies.append(input(\"enter 3rd movie name =\"))\n",
    "\n",
    "movies.append(mov1)\n",
    "movies.append(mov2)\n",
    "\n",
    "print(\"movies =\",movies)\n"
   ]
  },
  {
   "cell_type": "markdown",
   "metadata": {},
   "source": [
    "Q> WAP to chek if list contains a palindrome of element. (use copy() method)"
   ]
  },
  {
   "cell_type": "code",
   "execution_count": 17,
   "metadata": {},
   "outputs": [
    {
     "name": "stdout",
     "output_type": "stream",
     "text": [
      "yes, palindrome\n"
     ]
    }
   ],
   "source": [
    "list = [1,2,2,1]\n",
    "copyList = list.copy()\n",
    "copyList.reverse()\n",
    "\n",
    "print(\"yes, palindrome\") if list == copyList else print(\"not palindrome\")"
   ]
  }
 ],
 "metadata": {
  "kernelspec": {
   "display_name": "base",
   "language": "python",
   "name": "python3"
  },
  "language_info": {
   "codemirror_mode": {
    "name": "ipython",
    "version": 3
   },
   "file_extension": ".py",
   "mimetype": "text/x-python",
   "name": "python",
   "nbconvert_exporter": "python",
   "pygments_lexer": "ipython3",
   "version": "3.12.7"
  }
 },
 "nbformat": 4,
 "nbformat_minor": 2
}
