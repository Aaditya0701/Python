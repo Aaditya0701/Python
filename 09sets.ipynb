{
 "cells": [
  {
   "cell_type": "markdown",
   "metadata": {},
   "source": [
    "<h2>Sets</h2>"
   ]
  },
  {
   "cell_type": "markdown",
   "metadata": {},
   "source": [
    "    Set is collection of unordered items.\n",
    "    Each element in the set is unique and immutable.\n",
    "\n",
    "    Note: but we can remove or add element in set\n",
    "\n",
    "    - Values like boolean, str, int, float, tuple can be store in Set as they are immutable, but list and dictionary not because they are immutable\n",
    "\n",
    "    - Syntax : set_name = {val1, val2, val2,...,valN}"
   ]
  },
  {
   "cell_type": "code",
   "execution_count": 33,
   "metadata": {},
   "outputs": [
    {
     "name": "stdout",
     "output_type": "stream",
     "text": [
      "set collection = {1, 2, 3, 4, 5, ('coffee', 'croissant', 'cookie'), 'Aadiitya'}\n",
      "type of collection is = <class 'set'>\n",
      "\n",
      "it ignores duplicate values,\n",
      "marks = {19, 20, 11, 13, 15}\n",
      "marks = {19, 20, 11, 13, 15}\n",
      "length of marks = 5\n"
     ]
    }
   ],
   "source": [
    "collection = {1,2,3,4,5,\"Aadiitya\", (\"coffee\", \"croissant\", \"cookie\")}\n",
    "\n",
    "print(\"set collection =\",collection)\n",
    "print(\"type of collection is =\", type(collection))\n",
    "\n",
    "# set ignores duplicate items\n",
    "marks = {11,13,15,15,20,19,19}\n",
    "print(\"\\n\"+\"it ignores duplicate values,\")\n",
    "print(\"marks =\",marks)\n",
    "print(\"marks =\",marks)\n",
    "print(\"length of marks =\",len(marks))"
   ]
  },
  {
   "cell_type": "markdown",
   "metadata": {},
   "source": [
    "-------------------------------------------------------------------------------------------------------------------------------------------------------"
   ]
  },
  {
   "cell_type": "markdown",
   "metadata": {},
   "source": [
    "<h4>to create empty set,</h4>\n",
    "<h4>set_name = { } ❌, this is empty dictionary</h4>\n",
    "<h4>syntax : set_Name = set( ) ✅</h4>"
   ]
  },
  {
   "cell_type": "markdown",
   "metadata": {},
   "source": [
    "-------------------------------------------------------------------------------------------------------------------------------------------------------"
   ]
  },
  {
   "cell_type": "markdown",
   "metadata": {},
   "source": [
    "<h3>Set Methods</h3>"
   ]
  },
  {
   "cell_type": "code",
   "execution_count": 34,
   "metadata": {},
   "outputs": [
    {
     "name": "stdout",
     "output_type": "stream",
     "text": [
      "marks = {19, 20, 11, 13, 15}\n",
      "marks after add() = {19, 20, 'Outstanding', 25, 11, 13, 15}\n"
     ]
    }
   ],
   "source": [
    "# to add an element\n",
    "print(\"marks =\",marks)\n",
    "marks.add(25)\n",
    "marks.add(\"Outstanding\")\n",
    "\n",
    "print(\"marks after add() =\", marks)"
   ]
  },
  {
   "cell_type": "code",
   "execution_count": 35,
   "metadata": {},
   "outputs": [
    {
     "name": "stdout",
     "output_type": "stream",
     "text": [
      "marks = {19, 20, 'Outstanding', 25, 11, 13, 15}\n",
      "marks after remove() = {19, 20, 'Outstanding', 25, 13, 15}\n"
     ]
    }
   ],
   "source": [
    "# to remove an element\n",
    "print(\"marks =\",marks)\n",
    "marks.remove(11)\n",
    "\n",
    "print(\"marks after remove() =\", marks)"
   ]
  },
  {
   "cell_type": "code",
   "execution_count": null,
   "metadata": {},
   "outputs": [
    {
     "name": "stdout",
     "output_type": "stream",
     "text": [
      "marks = {19, 20, 'Outstanding', 25, 13, 15}\n",
      "poped value is = 19\n",
      "marks after pop() = {20, 'Outstanding', 25, 13, 15}\n"
     ]
    }
   ],
   "source": [
    "# removes random value\n",
    "print(\"marks =\",marks)\n",
    "pop_val = marks.pop() # can also use to generate a random no. from set\n",
    "\n",
    "print(\"poped value is =\",pop_val)\n",
    "print(\"marks after pop() =\", marks)"
   ]
  },
  {
   "cell_type": "code",
   "execution_count": 37,
   "metadata": {},
   "outputs": [
    {
     "name": "stdout",
     "output_type": "stream",
     "text": [
      "marks = {20, 'Outstanding', 25, 13, 15}\n",
      "marks after clear() = set()\n"
     ]
    }
   ],
   "source": [
    "# to empty the set\n",
    "print(\"marks =\",marks)\n",
    "marks.clear()\n",
    "\n",
    "print(\"marks after clear() =\", marks)"
   ]
  },
  {
   "cell_type": "markdown",
   "metadata": {},
   "source": [
    "Union of sets"
   ]
  },
  {
   "cell_type": "code",
   "execution_count": 38,
   "metadata": {},
   "outputs": [
    {
     "name": "stdout",
     "output_type": "stream",
     "text": [
      "unionSet = {1, 2, 3, 4, 5, 6, 7}\n"
     ]
    }
   ],
   "source": [
    "set1 = {1,2,3,4,5}\n",
    "set2 = {3,4,5,6,7}\n",
    "\n",
    "unionSet = set1.union(set2)\n",
    "print(\"unionSet =\",unionSet)"
   ]
  },
  {
   "cell_type": "markdown",
   "metadata": {},
   "source": [
    "Intersection of sets"
   ]
  },
  {
   "cell_type": "code",
   "execution_count": 39,
   "metadata": {},
   "outputs": [
    {
     "name": "stdout",
     "output_type": "stream",
     "text": [
      "intersectionSet = {3, 4, 5}\n"
     ]
    }
   ],
   "source": [
    "intersectionSet = set1.intersection(set2)\n",
    "print(\"intersectionSet =\", intersectionSet)"
   ]
  },
  {
   "cell_type": "markdown",
   "metadata": {},
   "source": [
    "<h3>Q> Store the following word's meaning in python dictionary</h3>\n",
    "    table : a piece of furnitire, list of facts and figure <br>\n",
    "    cat : a small pet animal"
   ]
  },
  {
   "cell_type": "code",
   "execution_count": 40,
   "metadata": {},
   "outputs": [
    {
     "name": "stdout",
     "output_type": "stream",
     "text": [
      "ductionary = {'table': ['a piece of furniture', 'list of facts and figures'], 'cat': 'a small pet animal'}\n"
     ]
    }
   ],
   "source": [
    "dictionary = {\n",
    "    \"table\" : [\"a piece of furniture\", \"list of facts and figures\"],\n",
    "    \"cat\" : \"a small pet animal\"\n",
    "}\n",
    "\n",
    "print(\"ductionary =\",dictionary)"
   ]
  },
  {
   "cell_type": "markdown",
   "metadata": {},
   "source": [
    "<h3>Q> You are given a list of subjests for students. Assume one classroom is required for one subject.<br>How many classrooms are needed by all students</h3>\n",
    "<br>\n",
    "    python, java, c++,python, javascript, java, python, java, c, c++\n"
   ]
  },
  {
   "cell_type": "code",
   "execution_count": 44,
   "metadata": {},
   "outputs": [
    {
     "name": "stdout",
     "output_type": "stream",
     "text": [
      "subjects = {'java', 'c', 'python', 'c++', 'javascript'}\n",
      "students will require 5 classrooms\n"
     ]
    }
   ],
   "source": [
    "subjects = {\"python\", \"java\", \"c++\", \"python\", \"javascript\", \"java\", \"python\", \"java\", \"c++\", \"c\"}\n",
    "\n",
    "classroomCount = len(subjects)\n",
    "print(\"subjects =\",subjects)\n",
    "print(\"students will require\",classroomCount,\"classrooms\")"
   ]
  },
  {
   "cell_type": "markdown",
   "metadata": {},
   "source": [
    "<h3>Q> WAP to enter marks of three subjects from the user and store them in dictionary. Start with a new dictionary and add one by one. Use subject name as key and marks as value</h3>\n"
   ]
  },
  {
   "cell_type": "code",
   "execution_count": 48,
   "metadata": {},
   "outputs": [
    {
     "name": "stdout",
     "output_type": "stream",
     "text": [
      "marks = {'python': 80, 'react js': 95, 'sql': 90}\n",
      "<class 'dict'>\n"
     ]
    }
   ],
   "source": [
    "marks = {}\n",
    "\n",
    "subject1 = input(\"enter first subject name -\")\n",
    "marks1 = int(input(\"enter first subject marks -\"))\n",
    "\n",
    "subject2 = input(\"enter second subject name -\")\n",
    "marks2 = int(input(\"enter second subject marks -\"))\n",
    "\n",
    "subject3 = input(\"enter third subject name -\")\n",
    "marks3 = int(input(\"enter third subject marks -\"))\n",
    "\n",
    "marks.update ({\n",
    "    subject1: marks1,\n",
    "    subject2: marks2,\n",
    "    subject3: marks3\n",
    "})\n",
    "\n",
    "print(\"marks =\",marks)\n",
    "print(type(marks))"
   ]
  }
 ],
 "metadata": {
  "kernelspec": {
   "display_name": "base",
   "language": "python",
   "name": "python3"
  },
  "language_info": {
   "codemirror_mode": {
    "name": "ipython",
    "version": 3
   },
   "file_extension": ".py",
   "mimetype": "text/x-python",
   "name": "python",
   "nbconvert_exporter": "python",
   "pygments_lexer": "ipython3",
   "version": "3.12.7"
  }
 },
 "nbformat": 4,
 "nbformat_minor": 2
}
