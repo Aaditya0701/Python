{
 "cells": [
  {
   "cell_type": "markdown",
   "metadata": {},
   "source": [
    "String & Conditional Statements"
   ]
  },
  {
   "cell_type": "code",
   "execution_count": 1,
   "metadata": {},
   "outputs": [
    {
     "name": "stdout",
     "output_type": "stream",
     "text": [
      "y\n"
     ]
    }
   ],
   "source": [
    "str = \"Aaditya Kamlaskar\"\n",
    "ch = str[5]\n",
    "print(ch)"
   ]
  },
  {
   "cell_type": "markdown",
   "metadata": {},
   "source": [
    "Slicing - accessing a part of a string"
   ]
  },
  {
   "cell_type": "markdown",
   "metadata": {},
   "source": [
    "        syntax : str[start_index : end_index], where end_index is not include in output"
   ]
  },
  {
   "cell_type": "code",
   "execution_count": 12,
   "metadata": {},
   "outputs": [
    {
     "name": "stdout",
     "output_type": "stream",
     "text": [
      "slice from 1 to 4 : adi\n",
      "slice from 8 to 16 : Kamlaskar\n",
      "Kamlaskar\n",
      "str[1:] - aditya Kamlaskar\n",
      "str[:8] - Aaditya \n"
     ]
    }
   ],
   "source": [
    "print(\"slice from 1 to 4 :\",str[1:4])\n",
    "print(\"slice from 8 to 16 :\",str[8:17])\n",
    "print(str[8:len(str)])\n",
    "print(\"str[1:] -\",str[1:]) # means str[1:17]\n",
    "print(\"str[:8] -\",str[:8]) # means str[0:8]"
   ]
  },
  {
   "cell_type": "markdown",
   "metadata": {},
   "source": [
    "String Functions"
   ]
  },
  {
   "cell_type": "code",
   "execution_count": 19,
   "metadata": {},
   "outputs": [
    {
     "name": "stdout",
     "output_type": "stream",
     "text": [
      "True\n",
      "Capitalize 1st chr of string : I am a coder\n",
      "Replace coder with developer : I am a developer\n",
      "Find a chr : 12\n",
      "how many times e occoured : 3\n"
     ]
    }
   ],
   "source": [
    "str = \"i am a coder\"\n",
    "print(str.endswith('er'))\n",
    "\n",
    "str = str.capitalize()\n",
    "print(\"Capitalize 1st chr of string :\",str)\n",
    "\n",
    "str = str.replace(\"coder\", \"developer\")\n",
    "print(\"Replace coder with developer :\",str)\n",
    "\n",
    "print(\"Find a chr :\",str.find(\"o\")) # returns 1st index of 1st occourer\n",
    "\n",
    "print(\"how many times e occoured :\",str.count(\"e\")) #counts the occurance of substring"
   ]
  }
 ],
 "metadata": {
  "kernelspec": {
   "display_name": "base",
   "language": "python",
   "name": "python3"
  },
  "language_info": {
   "codemirror_mode": {
    "name": "ipython",
    "version": 3
   },
   "file_extension": ".py",
   "mimetype": "text/x-python",
   "name": "python",
   "nbconvert_exporter": "python",
   "pygments_lexer": "ipython3",
   "version": "3.12.7"
  }
 },
 "nbformat": 4,
 "nbformat_minor": 2
}
