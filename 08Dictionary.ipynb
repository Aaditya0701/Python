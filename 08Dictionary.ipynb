{
 "cells": [
  {
   "cell_type": "markdown",
   "metadata": {},
   "source": [
    "Dictionary - "
   ]
  },
  {
   "cell_type": "markdown",
   "metadata": {},
   "source": [
    "    It is use to store data in key:value pair.\n",
    "    They are unorder, mutable & don't allow duplicate keys."
   ]
  },
  {
   "cell_type": "code",
   "execution_count": 5,
   "metadata": {},
   "outputs": [
    {
     "name": "stdout",
     "output_type": "stream",
     "text": [
      "info = {'name': 'Joseph', 'age': 23, 'city': 'Pune', 'country': 'India', 'hobbies': ['riding', 'guitar', 'coding']}\n",
      "info type is = <class 'dict'>\n",
      "name = Joseph\n",
      "hobbies ['riding', 'guitar', 'coding']\n"
     ]
    }
   ],
   "source": [
    "info = {\n",
    "    \"name\" : \"Joseph\",\n",
    "    \"age\" : 23,\n",
    "    \"city\" : \"Pune\",\n",
    "    \"country\" : \"India\",\n",
    "    \"hobbies\" : [\"riding\", \"guitar\", \"coding\"],\n",
    "}\n",
    "\n",
    "print(\"info =\",info)\n",
    "print(\"info type is =\",type(info))\n",
    "\n",
    "# access the value of dictionary using key\n",
    "print(\"name =\",info['name'])\n",
    "print(\"hobbies\",info[\"hobbies\"])\n"
   ]
  },
  {
   "cell_type": "code",
   "execution_count": 6,
   "metadata": {},
   "outputs": [
    {
     "name": "stdout",
     "output_type": "stream",
     "text": [
      "{'name': 'Aadiitya', 'age': 23, 'city': 'Pune', 'country': 'India', 'hobbies': ['riding', 'guitar', 'coding'], 'surname': 'Kamlaskar'}\n"
     ]
    }
   ],
   "source": [
    "# update a value\n",
    "info [\"name\"] = \"Aadiitya\"\n",
    "\n",
    "# Add a new key:value pair in python\n",
    "info [\"surname\"] = \"Kamlaskar\"\n",
    "\n",
    "print(info)"
   ]
  },
  {
   "cell_type": "markdown",
   "metadata": {},
   "source": [
    "Nested Dictionary"
   ]
  },
  {
   "cell_type": "code",
   "execution_count": 11,
   "metadata": {},
   "outputs": [
    {
     "name": "stdout",
     "output_type": "stream",
     "text": [
      "student = {'name': 'Aadiitya', 'age': 20, 'score': {'react': 90, 'java': 85, 'python': 80}, 'stream': 'MCA'}\n",
      "score = {'react': 90, 'java': 85, 'python': 80}\n",
      "react score = 90\n"
     ]
    }
   ],
   "source": [
    "student = {\n",
    "    \"name\" : \"Aadiitya\",\n",
    "    \"age\" : 20,\n",
    "    \"score\" : {\n",
    "        \"react\" : 90,\n",
    "        \"java\" : 85,\n",
    "        \"python\" : 80\n",
    "    },\n",
    "    \"stream\" : \"MCA\"\n",
    "}\n",
    "\n",
    "print(\"student =\",student)\n",
    "print(\"score =\",student[\"score\"])\n",
    "print(\"react score =\",student[\"score\"][\"react\"])"
   ]
  },
  {
   "cell_type": "markdown",
   "metadata": {},
   "source": [
    "Dictionary Methods"
   ]
  },
  {
   "cell_type": "code",
   "execution_count": 23,
   "metadata": {},
   "outputs": [
    {
     "name": "stdout",
     "output_type": "stream",
     "text": [
      "all keys in student dict =  dict_keys(['name', 'age', 'score', 'stream'])\n",
      "same opt like above bt in list form = ['name', 'age', 'score', 'stream']\n",
      "returns collection of all the valus in dictionary = ['Aadiitya', 20, {'react': 90, 'java': 85, 'python': 80}, 'MCA']\n",
      "(key:value) pairs in tuples = [('name', 'Aadiitya'), ('age', 20), ('score', {'react': 90, 'java': 85, 'python': 80}), ('stream', 'MCA')]\n"
     ]
    }
   ],
   "source": [
    "print(\"all keys in student dict = \",student.keys())\n",
    "print(\"same opt like above bt in list form =\",list(student.keys()))\n",
    "\n",
    "print(\"returns collection of all the valus in dictionary =\",list(student.values()))\n",
    "\n",
    "# to return all (key:value) pairs in tuples\n",
    "print(\"(key:value) pairs in tuples =\",list(student.items()))"
   ]
  },
  {
   "cell_type": "markdown",
   "metadata": {},
   "source": [
    "    access the value with key"
   ]
  },
  {
   "cell_type": "code",
   "execution_count": 30,
   "metadata": {},
   "outputs": [
    {
     "ename": "KeyError",
     "evalue": "'name1'",
     "output_type": "error",
     "traceback": [
      "\u001b[1;31m---------------------------------------------------------------------------\u001b[0m",
      "\u001b[1;31mKeyError\u001b[0m                                  Traceback (most recent call last)",
      "Cell \u001b[1;32mIn[30], line 1\u001b[0m\n\u001b[1;32m----> 1\u001b[0m \u001b[38;5;28mprint\u001b[39m(student[\u001b[38;5;124m'\u001b[39m\u001b[38;5;124mname1\u001b[39m\u001b[38;5;124m'\u001b[39m])\n",
      "\u001b[1;31mKeyError\u001b[0m: 'name1'"
     ]
    }
   ],
   "source": [
    "print(student['name1']) # if mistake while passing key, it will give error\n"
   ]
  },
  {
   "cell_type": "code",
   "execution_count": 33,
   "metadata": {},
   "outputs": [
    {
     "name": "stdout",
     "output_type": "stream",
     "text": [
      "with wrong key = None\n",
      "with right key = Aadiitya\n"
     ]
    }
   ],
   "source": [
    "print(\"with wrong key =\",student.get(\"name1\")) # no error if mistakenly pass wrong key, rather it will give 'None' value as return\n",
    "print(\"with right key =\",student.get(\"name\"))"
   ]
  },
  {
   "cell_type": "code",
   "execution_count": 39,
   "metadata": {},
   "outputs": [
    {
     "name": "stdout",
     "output_type": "stream",
     "text": [
      "{'name': 'Aadiitya', 'age': 20, 'score': {'react': 90, 'java': 85, 'python': 80}, 'stream': 'MCA', 'address': 'Hinjewadi', 'city': 'Pune'}\n"
     ]
    }
   ],
   "source": [
    "# update, insert new key:val pair or dictionary in existing\n",
    "\n",
    "student.update({\n",
    "    'city' : \"Pune\"\n",
    "})\n",
    "\n",
    "print(student)"
   ]
  }
 ],
 "metadata": {
  "kernelspec": {
   "display_name": "base",
   "language": "python",
   "name": "python3"
  },
  "language_info": {
   "codemirror_mode": {
    "name": "ipython",
    "version": 3
   },
   "file_extension": ".py",
   "mimetype": "text/x-python",
   "name": "python",
   "nbconvert_exporter": "python",
   "pygments_lexer": "ipython3",
   "version": "3.12.7"
  }
 },
 "nbformat": 4,
 "nbformat_minor": 2
}
