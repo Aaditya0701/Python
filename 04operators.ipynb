{
 "cells": [
  {
   "cell_type": "markdown",
   "metadata": {},
   "source": [
    "Types of Operators\n",
    "\n",
    "An operator is a symbol that performs a certain operation between operands.\n",
    "\n",
    "• Arithmetic Operators (+, -, *, /, %, **)\n",
    "\n",
    "• Relational / Comparison Operators ( ==, !=, >, <, >=, <=)\n",
    "\n",
    "• Assignment Operators (=, +=, -=, *=, /=, %=, **=)\n",
    "\n",
    "• Logical Operators (not, and, or)"
   ]
  },
  {
   "cell_type": "markdown",
   "metadata": {},
   "source": [
    "Ternary Operator / Single line if Statement"
   ]
  },
  {
   "cell_type": "code",
   "execution_count": 2,
   "metadata": {},
   "outputs": [
    {
     "name": "stdout",
     "output_type": "stream",
     "text": [
      "don't eat paneer\n"
     ]
    }
   ],
   "source": [
    "food = input(\"Enter food -\")\n",
    "print(\"eat\", food) if food == \"cake\" or food == \"jalebi\" else print(\"don't eat\", food)"
   ]
  },
  {
   "cell_type": "markdown",
   "metadata": {},
   "source": [
    "Clever if / Ternery Operator"
   ]
  },
  {
   "cell_type": "code",
   "execution_count": 3,
   "metadata": {},
   "outputs": [
    {
     "name": "stdout",
     "output_type": "stream",
     "text": [
      "your age is 75\n",
      "you can vote\n"
     ]
    }
   ],
   "source": [
    "age = int(input(\"Enter your age -\"))\n",
    "print(\"your age is\",age)\n",
    "vote = (\"you can't vote\",\"you can vote\") [age >= 18]\n",
    "# ........false value......true value..\n",
    "print(vote)"
   ]
  },
  {
   "cell_type": "markdown",
   "metadata": {},
   "source": [
    "Type Casting - manual conversion of data type"
   ]
  },
  {
   "cell_type": "code",
   "execution_count": null,
   "metadata": {},
   "outputs": [
    {
     "ename": "TypeError",
     "evalue": "can only concatenate str (not \"float\") to str",
     "output_type": "error",
     "traceback": [
      "\u001b[1;31m---------------------------------------------------------------------------\u001b[0m",
      "\u001b[1;31mTypeError\u001b[0m                                 Traceback (most recent call last)",
      "Cell \u001b[1;32mIn[1], line 3\u001b[0m\n\u001b[0;32m      1\u001b[0m a \u001b[38;5;241m=\u001b[39m \u001b[38;5;124m\"\u001b[39m\u001b[38;5;124m2\u001b[39m\u001b[38;5;124m\"\u001b[39m\n\u001b[0;32m      2\u001b[0m b \u001b[38;5;241m=\u001b[39m \u001b[38;5;241m3.5\u001b[39m\n\u001b[1;32m----> 3\u001b[0m \u001b[38;5;28mprint\u001b[39m(\u001b[38;5;124m\"\u001b[39m\u001b[38;5;124ma + b =\u001b[39m\u001b[38;5;124m\"\u001b[39m, a\u001b[38;5;241m+\u001b[39mb)\n",
      "\u001b[1;31mTypeError\u001b[0m: can only concatenate str (not \"float\") to str"
     ]
    }
   ],
   "source": [
    "# example -\n",
    "a = \"2\"\n",
    "b = 3.5\n",
    "print(\"a + b =\", a+b)"
   ]
  },
  {
   "cell_type": "code",
   "execution_count": 3,
   "metadata": {},
   "outputs": [
    {
     "name": "stdout",
     "output_type": "stream",
     "text": [
      "b + c = 5.5\n"
     ]
    }
   ],
   "source": [
    "# solution\n",
    "a = \"2\"\n",
    "b = 3.5\n",
    "c = int(a)\n",
    "print(\"b + c =\", b+c)"
   ]
  }
 ],
 "metadata": {
  "kernelspec": {
   "display_name": "base",
   "language": "python",
   "name": "python3"
  },
  "language_info": {
   "codemirror_mode": {
    "name": "ipython",
    "version": 3
   },
   "file_extension": ".py",
   "mimetype": "text/x-python",
   "name": "python",
   "nbconvert_exporter": "python",
   "pygments_lexer": "ipython3",
   "version": "3.12.7"
  }
 },
 "nbformat": 4,
 "nbformat_minor": 2
}
