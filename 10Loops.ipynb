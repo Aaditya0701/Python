{
 "cells": [
  {
   "cell_type": "markdown",
   "metadata": {},
   "source": [
    "<h2>Loops</h2>"
   ]
  },
  {
   "cell_type": "markdown",
   "metadata": {},
   "source": [
    "   <h3> while Loop </h3>"
   ]
  },
  {
   "cell_type": "code",
   "execution_count": 2,
   "metadata": {},
   "outputs": [
    {
     "name": "stdout",
     "output_type": "stream",
     "text": [
      "1 Hi Aadiitya..!\n",
      "2 Hi Aadiitya..!\n",
      "3 Hi Aadiitya..!\n",
      "4 Hi Aadiitya..!\n",
      "5 Hi Aadiitya..!\n"
     ]
    }
   ],
   "source": [
    "count = 1\n",
    "\n",
    "while count <= 5 :\n",
    "    print(count,\"Hi Aadiitya..!\")\n",
    "    count += 1"
   ]
  },
  {
   "cell_type": "markdown",
   "metadata": {},
   "source": [
    "<h3>Q> Print the elements of following list</h3>\n",
    "[1, 4, 9, 16, 25, 36, 49, 64, 81, 100]\n"
   ]
  },
  {
   "cell_type": "code",
   "execution_count": 10,
   "metadata": {},
   "outputs": [
    {
     "name": "stdout",
     "output_type": "stream",
     "text": [
      "1\n",
      "4\n",
      "9\n",
      "16\n",
      "25\n",
      "36\n",
      "49\n",
      "64\n",
      "81\n",
      "100\n"
     ]
    }
   ],
   "source": [
    "nums = [1, 4, 9, 16, 25, 36, 49, 64, 81, 100]\n",
    "c = 0\n",
    "while c < len(nums):\n",
    "    print(nums[c])\n",
    "    c += 1"
   ]
  },
  {
   "cell_type": "markdown",
   "metadata": {},
   "source": [
    "<h3>Q> Searcn x element in tuple</h3>\n",
    "(1, 4, 9, 16, 25, 36, 49, 64, 81, 100)\n"
   ]
  },
  {
   "cell_type": "code",
   "execution_count": null,
   "metadata": {},
   "outputs": [
    {
     "name": "stdout",
     "output_type": "stream",
     "text": [
      "number not found\n",
      "number not found\n",
      "number not found\n",
      "number not found\n",
      "number not found\n",
      "number not found\n",
      "number not found\n",
      "number not found\n",
      "number not found\n",
      "number 100 found\n"
     ]
    }
   ],
   "source": [
    "nums = (1, 4, 9, 16, 25, 36, 49, 64, 81, 100)\n",
    "x = int(input(\"Enter the number =\"))\n",
    "\n",
    "i = 0\n",
    "while i < len(nums):\n",
    "    if(nums[i] == x):\n",
    "        print(\"number\", x, \"found\")\n",
    "    else:\n",
    "        print(\"number not found\")\n",
    "    i += 1"
   ]
  },
  {
   "cell_type": "markdown",
   "metadata": {},
   "source": [
    "<h3>Break & Continue</h3>"
   ]
  },
  {
   "cell_type": "markdown",
   "metadata": {},
   "source": [
    "    break - use to terminate the loop when encountered.\n",
    "    continue - terminates execution in current iteration & continues execution of loop with the next iteration.\n",
    "                (basically skips the further execution, and starts from first again)"
   ]
  },
  {
   "cell_type": "code",
   "execution_count": null,
   "metadata": {},
   "outputs": [],
   "source": []
  },
  {
   "cell_type": "markdown",
   "metadata": {},
   "source": [
    "<h3>for Loop</h3>"
   ]
  },
  {
   "cell_type": "markdown",
   "metadata": {},
   "source": [
    "    are generally used for sequential traversal.For traversing list, string, tuple, etc."
   ]
  },
  {
   "cell_type": "code",
   "execution_count": 3,
   "metadata": {},
   "outputs": [
    {
     "name": "stdout",
     "output_type": "stream",
     "text": [
      "inception\n",
      "lucy\n",
      "displacement\n",
      "the substance\n",
      "intesteller\n"
     ]
    }
   ],
   "source": [
    "movies = [\"inception\", \"lucy\", \"displacement\", \"the substance\", \"intesteller\"]\n",
    "\n",
    "for ele in movies :\n",
    "    print(ele)"
   ]
  },
  {
   "cell_type": "markdown",
   "metadata": {},
   "source": [
    "<h3>Q> Searcn x element in tuple using for loop</h3>\n",
    "(1, 4, 9, 16, 25, 36, 49, 64, 81, 100)\n"
   ]
  },
  {
   "cell_type": "code",
   "execution_count": 10,
   "metadata": {},
   "outputs": [
    {
     "name": "stdout",
     "output_type": "stream",
     "text": [
      "Number is present in the list\n"
     ]
    }
   ],
   "source": [
    "nums = (1, 4, 9, 16, 25, 36, 49, 64, 81, 100)\n",
    "x = int(input(\"Enter the number =\"))\n",
    "i = 0\n",
    "\n",
    "for ele in nums :\n",
    "    if(x == ele) :\n",
    "        print(\"Number is present in the list\")\n",
    "        break\n",
    "    i += 1"
   ]
  },
  {
   "cell_type": "markdown",
   "metadata": {},
   "source": [
    "<h3> range( ) </h3>"
   ]
  },
  {
   "cell_type": "markdown",
   "metadata": {},
   "source": [
    "    range function returns sequence of numbers, starting from 0 by default, increments by 1 (by default), & stops before specified number.\n",
    "\n",
    "    syntax : range(start?, stop, step?)"
   ]
  },
  {
   "cell_type": "code",
   "execution_count": 15,
   "metadata": {},
   "outputs": [
    {
     "name": "stdout",
     "output_type": "stream",
     "text": [
      "1st range : range(0, 5)\n",
      "2nd range =\n",
      "2\n",
      "3\n",
      "4\n",
      "5\n",
      "6\n",
      "7\n",
      "8\n",
      "9\n",
      "3rd range =\n",
      "2\n",
      "4\n",
      "6\n",
      "8\n",
      "10\n"
     ]
    }
   ],
   "source": [
    "seq = range(5)\n",
    "print(\"1st range :\",seq)\n",
    "\n",
    "print(\"2nd range =\")\n",
    "for i in range(2,10):\n",
    "    print(i)\n",
    "    \n",
    "print(\"3rd range =\")\n",
    "for i in range(2,11,2):\n",
    "    print(i)"
   ]
  },
  {
   "cell_type": "markdown",
   "metadata": {},
   "source": [
    "<h4>multiplication table using range( ) & for loop</h4>"
   ]
  },
  {
   "cell_type": "code",
   "execution_count": 18,
   "metadata": {},
   "outputs": [
    {
     "name": "stdout",
     "output_type": "stream",
     "text": [
      "5\n",
      "10\n",
      "15\n",
      "20\n",
      "25\n",
      "30\n",
      "35\n",
      "40\n",
      "45\n",
      "50\n"
     ]
    }
   ],
   "source": [
    "n = int(input(\"enter number =\"))\n",
    "t = (n*10)+1\n",
    "\n",
    "for i in range(n,t,n):\n",
    "    print(i)"
   ]
  }
 ],
 "metadata": {
  "kernelspec": {
   "display_name": "Python 3",
   "language": "python",
   "name": "python3"
  },
  "language_info": {
   "codemirror_mode": {
    "name": "ipython",
    "version": 3
   },
   "file_extension": ".py",
   "mimetype": "text/x-python",
   "name": "python",
   "nbconvert_exporter": "python",
   "pygments_lexer": "ipython3",
   "version": "3.13.2"
  }
 },
 "nbformat": 4,
 "nbformat_minor": 2
}
